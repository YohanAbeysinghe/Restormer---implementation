{
 "cells": [
  {
   "cell_type": "code",
   "execution_count": 4,
   "metadata": {},
   "outputs": [],
   "source": [
    "import glob"
   ]
  },
  {
   "cell_type": "code",
   "execution_count": 7,
   "metadata": {},
   "outputs": [],
   "source": [
    "data_path = 'data'\n",
    "data_name = 'rain100L'\n",
    "save_path = 'result'\n",
    "num_blocks = [4, 6, 6, 8]\n",
    "num_heads = [1, 2, 4, 8]\n",
    "channels = [48, 96, 192, 384]\n",
    "expansion_factor = 2.66\n",
    "num_refinement = 4\n",
    "num_iter = 300000\n",
    "batch_size = [64, 40, 32, 16, 8, 8]\n",
    "patch_size = [128, 160, 192, 256, 320, 384]\n",
    "lr = 0.0003\n",
    "milestone = [92000, 156000, 204000, 240000, 276000]\n",
    "workers = 8\n",
    "seed = -1\n",
    "model_file = None"
   ]
  },
  {
   "cell_type": "code",
   "execution_count": 8,
   "metadata": {},
   "outputs": [],
   "source": [
    "data_type = 'train'\n",
    "patch_size = None\n",
    "length = None"
   ]
  },
  {
   "cell_type": "code",
   "execution_count": 9,
   "metadata": {},
   "outputs": [],
   "source": [
    "rain_images = sorted(glob.glob('{}/{}/{}/rain/*.png'.format(data_path, data_name, data_type)))\n",
    "norain_images = sorted(glob.glob('{}/{}/{}/norain/*.png'.format(data_path, data_name, data_type)))"
   ]
  },
  {
   "cell_type": "code",
   "execution_count": 11,
   "metadata": {},
   "outputs": [
    {
     "data": {
      "text/plain": [
       "200"
      ]
     },
     "execution_count": 11,
     "metadata": {},
     "output_type": "execute_result"
    }
   ],
   "source": [
    "len(rain_images)"
   ]
  }
 ],
 "metadata": {
  "kernelspec": {
   "display_name": "Python 3.9 (pytorch)",
   "language": "python",
   "name": "pytorch"
  },
  "language_info": {
   "codemirror_mode": {
    "name": "ipython",
    "version": 3
   },
   "file_extension": ".py",
   "mimetype": "text/x-python",
   "name": "python",
   "nbconvert_exporter": "python",
   "pygments_lexer": "ipython3",
   "version": "3.9.15"
  }
 },
 "nbformat": 4,
 "nbformat_minor": 2
}
